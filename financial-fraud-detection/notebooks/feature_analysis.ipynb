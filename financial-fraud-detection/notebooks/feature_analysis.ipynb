{
 "cells": [
  {
   "cell_type": "code",
   "execution_count": null,
   "id": "b9eacfbd",
   "metadata": {},
   "outputs": [],
   "source": [
    "import pandas as pd\n",
    "import seaborn as sns\n",
    "import matplotlib.pyplot as plt\n",
    "from config.settings import DATA_PATHS\n",
    "\n",
    "# Load data with features\n",
    "df = pd.read_parquet(DATA_PATHS['processed'])\n",
    "\n",
    "# 1. Correlation analysis\n",
    "numeric_cols = df.select_dtypes(include=['float64', 'int64']).columns\n",
    "corr_matrix = df[numeric_cols].corr()\n",
    "\n",
    "plt.figure(figsize=(15, 10))\n",
    "sns.heatmap(corr_matrix, annot=True, cmap='coolwarm', center=0)\n",
    "plt.title('Feature Correlation Matrix')\n",
    "plt.show()\n",
    "\n",
    "# 2. Feature distributions\n",
    "plt.figure(figsize=(15, 10))\n",
    "\n",
    "plt.subplot(2, 2, 1)\n",
    "sns.boxplot(x='transaction_dow', y='amount', data=df)\n",
    "plt.title('Transaction Amount by Day of Week')\n",
    "\n",
    "plt.subplot(2, 2, 2)\n",
    "sns.scatterplot(x='user_mean_amount', y='amount', data=df.sample(1000))\n",
    "plt.title('User Mean Amount vs Transaction Amount')\n",
    "\n",
    "plt.subplot(2, 2, 3)\n",
    "sns.histplot(df['time_since_last_txn'].dropna(), bins=50)\n",
    "plt.title('Time Since Last Transaction (hours)')\n",
    "\n",
    "plt.subplot(2, 2, 4)\n",
    "sns.boxplot(x='merchant_category', y='amount_zscore', data=df)\n",
    "plt.xticks(rotation=45)\n",
    "plt.title('Amount Z-Score by Merchant Category')\n",
    "\n",
    "plt.tight_layout()\n",
    "plt.show()"
   ]
  }
 ],
 "metadata": {
  "language_info": {
   "name": "python"
  }
 },
 "nbformat": 4,
 "nbformat_minor": 5
}
